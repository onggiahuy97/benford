{
 "cells": [
  {
   "cell_type": "code",
   "execution_count": 5,
   "id": "58dab32d",
   "metadata": {},
   "outputs": [
    {
     "name": "stdout",
     "output_type": "stream",
     "text": [
      "Number of features: 55\n"
     ]
    }
   ],
   "source": [
    "import pandas as pd\n",
    "\n",
    "# Load your data\n",
    "df = pd.read_csv('../datasets/CICMalMem2022/output3.csv')\n",
    "\n",
    "# Remove filename column and keep only the 55 features\n",
    "features_df = df.drop('Filename', axis=1)\n",
    "\n",
    "# Or specifically select columns 1-55 (0-indexed, so 1:56)\n",
    "features_df = df.iloc[:, 1:56]\n",
    "\n",
    "# Verify you have 55 features\n",
    "print(f\"Number of features: {len(features_df.columns)}\")"
   ]
  },
  {
   "cell_type": "code",
   "execution_count": null,
   "id": "2cfce879",
   "metadata": {},
   "outputs": [
    {
     "name": "stdout",
     "output_type": "stream",
     "text": [
      "=== OUTPUT1.CSV ANALYSIS ===\n",
      "Shape: (150, 56)\n",
      "Columns: 56\n",
      "Sample filenames:\n",
      "['Spyware-TIBS-3b63fad1545031b6e3e133a2f900fb18873bbee514e0b3ce8417d33afe1bce31-6.raw', 'Spyware-TIBS-0cfbc1046bbbe2d1603df1fedde6652a4542e1ec4f2c0df4ab1d426ff60ba715-3.raw', 'Spyware-TIBS-3b63fad1545031b6e3e133a2f900fb18873bbee514e0b3ce8417d33afe1bce31-9.raw']\n",
      "Contains: SPYWARE samples\n",
      "Memory statistics (first numeric column):\n",
      "Error reading output1.csv: name 'np' is not defined\n",
      "=== OUTPUT2.CSV ANALYSIS ===\n",
      "Shape: (350, 56)\n",
      "Columns: 56\n",
      "Sample filenames:\n",
      "['Spyware-TIBS-6e274cbbdefce4f2bcb3543da3f4043319541e51a110356e68cea2ae85153427-6.raw', 'Spyware-TIBS-7cbae8b99aad8d5f683842fe9b1d44647599dfa2c73feac803baa1f9cbf789a8-9.raw', 'Spyware-TIBS-45f85eaf165337665b247db9aecc04e018d6402f73da2730fc66b885252abe7e-7.raw']\n",
      "Contains: SPYWARE samples\n",
      "Memory statistics (first numeric column):\n",
      "Error reading output2.csv: name 'np' is not defined\n",
      "=== OUTPUT3.CSV ANALYSIS ===\n",
      "Shape: (350, 56)\n",
      "Columns: 56\n",
      "Sample filenames:\n",
      "['Spyware-TIBS-87163ea3765848c449bf0ff0549bacf6a38706b9004b2262e20b822fb5f4e852-1.raw', 'Spyware-TIBS-570dbd214653ec1c9b7ff1f2c119060a7cacc28549706ece5f233ebdc05b1518-10.raw', 'Spyware-TIBS-8217ae4fbd1555e6e06a5d3f18231377941f07d100b5ad62a8b31b9f1b64703e-5.raw']\n",
      "Contains: SPYWARE samples\n",
      "Memory statistics (first numeric column):\n",
      "Error reading output3.csv: name 'np' is not defined\n"
     ]
    }
   ],
   "source": [
    "import pandas as pd\n",
    "\n",
    "# Check the differences between your files\n",
    "def analyze_dataset_differences():\n",
    "    files = ['output1.csv', 'output2.csv', 'output3.csv']\n",
    "    \n",
    "    for i, file in enumerate(files, 1):\n",
    "        try:\n",
    "            df = pd.read_csv(file)\n",
    "            \n",
    "            print(f\"=== OUTPUT{i}.CSV ANALYSIS ===\")\n",
    "            print(f\"Shape: {df.shape}\")\n",
    "            print(f\"Columns: {len(df.columns)}\")\n",
    "            \n",
    "            # Check if there's a label column\n",
    "            if 'Label' in df.columns:\n",
    "                print(f\"Label distribution:\")\n",
    "                print(df['Label'].value_counts())\n",
    "            elif 'Class' in df.columns:\n",
    "                print(f\"Class distribution:\")\n",
    "                print(df['Class'].value_counts())\n",
    "            \n",
    "            # Check for malware family indicators in filename\n",
    "            if 'Filename' in df.columns:\n",
    "                print(f\"Sample filenames:\")\n",
    "                print(df['Filename'].head(3).tolist())\n",
    "                \n",
    "                # Extract malware type from filename\n",
    "                if df['Filename'].str.contains('Spyware', case=False).any():\n",
    "                    print(\"Contains: SPYWARE samples\")\n",
    "                if df['Filename'].str.contains('Ransomware', case=False).any():\n",
    "                    print(\"Contains: RANSOMWARE samples\")  \n",
    "                if df['Filename'].str.contains('Trojan', case=False).any():\n",
    "                    print(\"Contains: TROJAN samples\")\n",
    "                if df['Filename'].str.contains('Benign', case=False).any():\n",
    "                    print(\"Contains: BENIGN samples\")\n",
    "            \n",
    "            # Check data statistics\n",
    "            print(f\"Memory statistics (first numeric column):\")\n",
    "            numeric_cols = df.select_dtypes(include=[np.number]).columns\n",
    "            if len(numeric_cols) > 0:\n",
    "                first_col = numeric_cols[0]\n",
    "                print(f\"  {first_col} - Mean: {df[first_col].mean():.2f}, Std: {df[first_col].std():.2f}\")\n",
    "            \n",
    "            print(\"-\" * 50)\n",
    "            \n",
    "        except Exception as e:\n",
    "            print(f\"Error reading {file}: {e}\")\n",
    "\n",
    "# Run the analysis\n",
    "analyze_dataset_differences()"
   ]
  }
 ],
 "metadata": {
  "kernelspec": {
   "display_name": "Python 3",
   "language": "python",
   "name": "python3"
  },
  "language_info": {
   "codemirror_mode": {
    "name": "ipython",
    "version": 3
   },
   "file_extension": ".py",
   "mimetype": "text/x-python",
   "name": "python",
   "nbconvert_exporter": "python",
   "pygments_lexer": "ipython3",
   "version": "3.12.5"
  }
 },
 "nbformat": 4,
 "nbformat_minor": 5
}
